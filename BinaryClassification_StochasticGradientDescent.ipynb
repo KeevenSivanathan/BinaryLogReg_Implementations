{
 "cells": [
  {
   "cell_type": "code",
   "execution_count": 20,
   "metadata": {},
   "outputs": [],
   "source": [
    "import pandas as pd\n",
    "import numpy as np\n",
    "import sklearn as sk\n",
    "import sklearn.datasets\n",
    "from sklearn.model_selection import train_test_split \n",
    "import matplotlib.pyplot as plt"
   ]
  },
  {
   "cell_type": "code",
   "execution_count": 21,
   "metadata": {},
   "outputs": [],
   "source": [
    "#Loading in data from sklearn\n",
    "dataset = sk.datasets.load_breast_cancer()\n",
    "X = dataset.data\n",
    "y = dataset.target"
   ]
  },
  {
   "cell_type": "code",
   "execution_count": 22,
   "metadata": {},
   "outputs": [],
   "source": [
    "#Split data into train and test \n",
    "X_train, X_test, y_train, y_test = train_test_split(X,y,test_size=0.2)"
   ]
  },
  {
   "cell_type": "code",
   "execution_count": 33,
   "metadata": {},
   "outputs": [],
   "source": [
    "N_train = X_train.shape[0]\n",
    "N_val = X_train.shape[0]\n",
    "d = X.shape[0]"
   ]
  },
  {
   "cell_type": "code",
   "execution_count": 24,
   "metadata": {},
   "outputs": [],
   "source": [
    "#Normalize Data\n",
    "X_train = (X_train - np.mean(X_train,axis=0)) / np.std(X_train,axis=0)\n",
    "X_test = (X_test - np.mean(X_train,axis=0)) / np.std(X_train,axis=0)"
   ]
  },
  {
   "cell_type": "code",
   "execution_count": 25,
   "metadata": {},
   "outputs": [],
   "source": [
    "#Insert leading 1's to create augmented matrix \n",
    "X_train = np.insert(X_train,0,1,axis=1)\n",
    "X_test = np.insert(X_test,0,1,axis=1)"
   ]
  },
  {
   "cell_type": "code",
   "execution_count": 26,
   "metadata": {},
   "outputs": [],
   "source": [
    "#Sigmoid Function\n",
    "def sigmoid(u):\n",
    "    exp_u = np.exp(u)\n",
    "    return exp_u/(1+exp_u)"
   ]
  },
  {
   "cell_type": "code",
   "execution_count": 27,
   "metadata": {},
   "outputs": [],
   "source": [
    "#Cross Entropy Loss Function\n",
    "def cross_entropy(p,q):\n",
    "    return -p*np.log(q) - (1-p)*np.log(1-q)"
   ]
  },
  {
   "cell_type": "code",
   "execution_count": 47,
   "metadata": {},
   "outputs": [],
   "source": [
    "#Objective Function\n",
    "def L(beta,X,y):\n",
    "    N = X.shape[0]\n",
    "    s = 0\n",
    "    for i in range(N):\n",
    "        xiHat = X[i]\n",
    "        yi = y[i]\n",
    "        \n",
    "        #Prediction Function\n",
    "        u = beta @ xiHat\n",
    "        yi_pred = sigmoid(u)\n",
    "        \n",
    "        #Calculating the loss\n",
    "        s += cross_entropy(yi,yi_pred)\n",
    "    \n",
    "    #Returns the average loss \n",
    "    return s / N "
   ]
  },
  {
   "cell_type": "code",
   "execution_count": 48,
   "metadata": {},
   "outputs": [],
   "source": [
    "#Calculate Gradient\n",
    "def grad_L(beta,X,y):\n",
    "    N = X.shape[0]\n",
    "    grad = 0\n",
    "    for i in range(N):\n",
    "        xiHat = X[i]\n",
    "        yi = y[i]\n",
    "        u = xiHat @ beta\n",
    "        yi_pred = sigmoid(u)\n",
    "        \n",
    "        grad = grad + np.outer((sigmoid(u) - yi), xiHat)\n",
    "        \n",
    "    return grad / N "
   ]
  },
  {
   "cell_type": "code",
   "execution_count": 85,
   "metadata": {},
   "outputs": [],
   "source": [
    "#Logistic Regression using Stochastic Gradient Descent\n",
    "def BinaryLogReg_StochasticGradientDescent(X,y):\n",
    "    num_epochs = 100\n",
    "    batch_size = 64\n",
    "    alpha = 0.001\n",
    "    N = X.shape[0]\n",
    "    d = X.shape[1] - 1\n",
    "    \n",
    "    beta = np.zeros((d+1))\n",
    "    \n",
    "    L_vals = np.zeros(num_epochs)\n",
    "    \n",
    "    for ep in range(num_epochs):\n",
    "        L_vals[ep] = L(beta,X,y)\n",
    "        \n",
    "        prm = np.random.permutation(N)\n",
    "        \n",
    "        batch_idx = 0\n",
    "        \n",
    "        print('| Epoch : ' + str(ep) + ' | Loss : ' + str(L_vals[ep]))\n",
    "        for start_idx in range(0,N,batch_size):\n",
    "            stop_idx = start_idx + batch_size \n",
    "            stop_idx = min(stop_idx,N)\n",
    "            \n",
    "            num_examples_in_batch = stop_idx - start_idx \n",
    "            \n",
    "            grad = np.zeros(d+1)\n",
    "            \n",
    "            for i in prm[start_idx : stop_idx]:\n",
    "                xiHat = X[i]\n",
    "                yi = y[i]\n",
    "                \n",
    "                grad += sigmoid(np.vdot(xiHat,beta) - yi)*xiHat\n",
    "                \n",
    "            grad = grad / num_examples_in_batch\n",
    "            \n",
    "            beta = beta - alpha * grad \n",
    "            \n",
    "            batch_idx += 1 \n",
    "            \n",
    "    return beta, L_vals"
   ]
  },
  {
   "cell_type": "code",
   "execution_count": 86,
   "metadata": {},
   "outputs": [],
   "source": [
    "#Function to make preductions\n",
    "def make_predictions(beta, X):\n",
    "\n",
    "    N = X.shape[0]\n",
    "    y_pred = np.zeros(N)\n",
    "    \n",
    "    for i in range(N):\n",
    "        \n",
    "        xiHat = X[i]\n",
    "        yi_pred = sigmoid(np.vdot(xiHat, beta))\n",
    "        \n",
    "        y_pred[i] = np.round(yi_pred)\n",
    "        \n",
    "    return y_pred"
   ]
  },
  {
   "cell_type": "code",
   "execution_count": 87,
   "metadata": {},
   "outputs": [
    {
     "name": "stdout",
     "output_type": "stream",
     "text": [
      "| Epoch : 0 | Loss : 0.6931471805599468\n",
      "| Epoch : 1 | Loss : 0.6907129966620946\n",
      "| Epoch : 2 | Loss : 0.6878583067371753\n",
      "| Epoch : 3 | Loss : 0.6844801416533871\n",
      "| Epoch : 4 | Loss : 0.6826098279843944\n",
      "| Epoch : 5 | Loss : 0.6795120730630344\n",
      "| Epoch : 6 | Loss : 0.677055648616158\n",
      "| Epoch : 7 | Loss : 0.673471604325928\n",
      "| Epoch : 8 | Loss : 0.6719424480635658\n",
      "| Epoch : 9 | Loss : 0.6688485936378341\n",
      "| Epoch : 10 | Loss : 0.6663596283829611\n",
      "| Epoch : 11 | Loss : 0.6646262411915391\n",
      "| Epoch : 12 | Loss : 0.6630598039845518\n",
      "| Epoch : 13 | Loss : 0.6618229035214759\n",
      "| Epoch : 14 | Loss : 0.6587180000411991\n",
      "| Epoch : 15 | Loss : 0.6570397272652474\n",
      "| Epoch : 16 | Loss : 0.6550115288704204\n",
      "| Epoch : 17 | Loss : 0.6537104060349799\n",
      "| Epoch : 18 | Loss : 0.6518151460174486\n",
      "| Epoch : 19 | Loss : 0.6502468702573777\n",
      "| Epoch : 20 | Loss : 0.6483477521337268\n",
      "| Epoch : 21 | Loss : 0.646559845011858\n",
      "| Epoch : 22 | Loss : 0.6446592746431844\n",
      "| Epoch : 23 | Loss : 0.6431870663951436\n",
      "| Epoch : 24 | Loss : 0.6419471434415417\n",
      "| Epoch : 25 | Loss : 0.6398716025655669\n",
      "| Epoch : 26 | Loss : 0.6385759594374321\n",
      "| Epoch : 27 | Loss : 0.6375936251766803\n",
      "| Epoch : 28 | Loss : 0.636733911975478\n",
      "| Epoch : 29 | Loss : 0.6357449473691317\n",
      "| Epoch : 30 | Loss : 0.6341697004606087\n",
      "| Epoch : 31 | Loss : 0.6335508559618862\n",
      "| Epoch : 32 | Loss : 0.6332071023816339\n",
      "| Epoch : 33 | Loss : 0.6317193865304047\n",
      "| Epoch : 34 | Loss : 0.6310211771248828\n",
      "| Epoch : 35 | Loss : 0.6296701932317357\n",
      "| Epoch : 36 | Loss : 0.6293691781286532\n",
      "| Epoch : 37 | Loss : 0.6281142639508093\n",
      "| Epoch : 38 | Loss : 0.6279020633851058\n",
      "| Epoch : 39 | Loss : 0.6267322384743446\n",
      "| Epoch : 40 | Loss : 0.6256356185758196\n",
      "| Epoch : 41 | Loss : 0.6254859865632778\n",
      "| Epoch : 42 | Loss : 0.624944538267137\n",
      "| Epoch : 43 | Loss : 0.6237913631790373\n",
      "| Epoch : 44 | Loss : 0.6235316559729374\n",
      "| Epoch : 45 | Loss : 0.6220741307839768\n",
      "| Epoch : 46 | Loss : 0.6206908464619765\n",
      "| Epoch : 47 | Loss : 0.619861216154003\n",
      "| Epoch : 48 | Loss : 0.6198224942962385\n",
      "| Epoch : 49 | Loss : 0.618380625742014\n",
      "| Epoch : 50 | Loss : 0.617681760216569\n",
      "| Epoch : 51 | Loss : 0.6175000819769039\n",
      "| Epoch : 52 | Loss : 0.61726394698199\n",
      "| Epoch : 53 | Loss : 0.6160065462444438\n",
      "| Epoch : 54 | Loss : 0.6151770106108854\n",
      "| Epoch : 55 | Loss : 0.6149857420399872\n",
      "| Epoch : 56 | Loss : 0.6139511557001288\n",
      "| Epoch : 57 | Loss : 0.6136771028134669\n",
      "| Epoch : 58 | Loss : 0.6132739367163887\n",
      "| Epoch : 59 | Loss : 0.6130622648075015\n",
      "| Epoch : 60 | Loss : 0.6125327719026546\n",
      "| Epoch : 61 | Loss : 0.612194334166968\n",
      "| Epoch : 62 | Loss : 0.6115622774039999\n",
      "| Epoch : 63 | Loss : 0.6106505714045375\n",
      "| Epoch : 64 | Loss : 0.6098601477074108\n",
      "| Epoch : 65 | Loss : 0.6096225324094661\n",
      "| Epoch : 66 | Loss : 0.6100535947403318\n",
      "| Epoch : 67 | Loss : 0.609404828751746\n",
      "| Epoch : 68 | Loss : 0.6096199012891025\n",
      "| Epoch : 69 | Loss : 0.6092198220857588\n",
      "| Epoch : 70 | Loss : 0.6090895500267862\n",
      "| Epoch : 71 | Loss : 0.6092328124249851\n",
      "| Epoch : 72 | Loss : 0.6094215527274858\n",
      "| Epoch : 73 | Loss : 0.6091588034248635\n",
      "| Epoch : 74 | Loss : 0.6095253770870432\n",
      "| Epoch : 75 | Loss : 0.6098893151472876\n",
      "| Epoch : 76 | Loss : 0.6089587181052128\n",
      "| Epoch : 77 | Loss : 0.6090571352453957\n",
      "| Epoch : 78 | Loss : 0.6087089787255097\n",
      "| Epoch : 79 | Loss : 0.6090331041523827\n",
      "| Epoch : 80 | Loss : 0.6084038844531999\n",
      "| Epoch : 81 | Loss : 0.6077779574335747\n",
      "| Epoch : 82 | Loss : 0.6083017665302235\n",
      "| Epoch : 83 | Loss : 0.6080298536544314\n",
      "| Epoch : 84 | Loss : 0.608141916775216\n",
      "| Epoch : 85 | Loss : 0.6085067407078867\n",
      "| Epoch : 86 | Loss : 0.6087072369574744\n",
      "| Epoch : 87 | Loss : 0.6085233916285246\n",
      "| Epoch : 88 | Loss : 0.609104238212686\n",
      "| Epoch : 89 | Loss : 0.6084235847964925\n",
      "| Epoch : 90 | Loss : 0.6080843569466795\n",
      "| Epoch : 91 | Loss : 0.607799891971995\n",
      "| Epoch : 92 | Loss : 0.6075373055840331\n",
      "| Epoch : 93 | Loss : 0.6071306843047161\n",
      "| Epoch : 94 | Loss : 0.607445476321751\n",
      "| Epoch : 95 | Loss : 0.6080783328898267\n",
      "| Epoch : 96 | Loss : 0.6084873552330018\n",
      "| Epoch : 97 | Loss : 0.6087793095867057\n",
      "| Epoch : 98 | Loss : 0.6086656647149548\n",
      "| Epoch : 99 | Loss : 0.6087020954972044\n"
     ]
    }
   ],
   "source": [
    "beta, L_vals = BinaryLogReg_StochasticGradientDescent(X_train,y_train) "
   ]
  },
  {
   "cell_type": "code",
   "execution_count": 88,
   "metadata": {},
   "outputs": [
    {
     "data": {
      "text/plain": [
       "Text(0.5, 1.0, 'Objective Loss over n Iterations')"
      ]
     },
     "execution_count": 88,
     "metadata": {},
     "output_type": "execute_result"
    },
    {
     "data": {
      "image/png": "[encoded data removed]",
      "text/plain": [
       "<Figure size 432x288 with 1 Axes>"
      ]
     },
     "metadata": {
      "needs_background": "light"
     },
     "output_type": "display_data"
    }
   ],
   "source": [
    "plt.plot(L_vals)\n",
    "plt.title('Objective Loss over n Iterations')"
   ]
  },
  {
   "cell_type": "code",
   "execution_count": 89,
   "metadata": {},
   "outputs": [],
   "source": [
    "#Calculate Predictions\n",
    "y_pred = make_predictions(beta,X_test)"
   ]
  },
  {
   "cell_type": "code",
   "execution_count": 90,
   "metadata": {},
   "outputs": [
    {
     "data": {
      "text/plain": [
       "array([0., 0., 0., 0., 0., 0., 0., 0., 0., 0., 0., 0., 0., 0., 0., 0., 0.,\n",
       "       0., 0., 0., 0., 0., 0., 0., 0., 0., 0., 0., 0., 0., 0., 0., 0., 0.,\n",
       "       0., 0., 0., 0., 0., 0., 0., 0., 0., 0., 0., 0., 0., 0., 0., 0., 0.,\n",
       "       0., 0., 0., 0., 0., 0., 0., 0., 0., 0., 0., 0., 0., 0., 0., 0., 0.,\n",
       "       0., 0., 0., 0., 0., 0., 0., 0., 0., 0., 0., 0., 0., 0., 0., 0., 0.,\n",
       "       0., 0., 0., 0., 0., 0., 0., 0., 0., 0., 0., 0., 0., 0., 0., 0., 0.,\n",
       "       0., 0., 0., 0., 0., 0., 0., 0., 0., 0., 0., 0.])"
      ]
     },
     "execution_count": 90,
     "metadata": {},
     "output_type": "execute_result"
    }
   ],
   "source": [
    "y_pred"
   ]
  },
  {
   "cell_type": "code",
   "execution_count": 91,
   "metadata": {},
   "outputs": [
    {
     "data": {
      "text/plain": [
       "array([0, 0, 1, 0, 0, 1, 1, 0, 1, 1, 1, 0, 1, 0, 1, 1, 1, 0, 1, 0, 1, 1,\n",
       "       0, 1, 1, 1, 1, 1, 1, 1, 0, 0, 0, 1, 1, 1, 1, 0, 0, 1, 1, 1, 0, 0,\n",
       "       0, 1, 0, 1, 0, 1, 1, 0, 0, 1, 1, 1, 1, 0, 1, 1, 0, 1, 0, 1, 1, 0,\n",
       "       1, 1, 1, 1, 1, 1, 0, 0, 0, 0, 1, 0, 1, 1, 1, 0, 1, 0, 1, 1, 1, 1,\n",
       "       1, 0, 1, 1, 1, 0, 1, 1, 1, 1, 0, 0, 1, 1, 0, 1, 0, 1, 0, 1, 1, 1,\n",
       "       1, 0, 1, 1])"
      ]
     },
     "execution_count": 91,
     "metadata": {},
     "output_type": "execute_result"
    }
   ],
   "source": [
    "y_test"
   ]
  },
  {
   "cell_type": "code",
   "execution_count": 80,
   "metadata": {},
   "outputs": [
    {
     "name": "stdout",
     "output_type": "stream",
     "text": [
      "accuracy on validation dataset:  0.35964912280701755\n"
     ]
    }
   ],
   "source": [
    "accuracy = np.sum(y_test == y_pred)/len(y_pred)\n",
    "print('accuracy on validation dataset: ', accuracy)"
   ]
  }
 ],
 "metadata": {
  "kernelspec": {
   "display_name": "Python 3",
   "language": "python",
   "name": "python3"
  },
  "language_info": {
   "codemirror_mode": {
    "name": "ipython",
    "version": 3
   },
   "file_extension": ".py",
   "mimetype": "text/x-python",
   "name": "python",
   "nbconvert_exporter": "python",
   "pygments_lexer": "ipython3",
   "version": "3.7.6"
  }
 },
 "nbformat": 4,
 "nbformat_minor": 4
}
