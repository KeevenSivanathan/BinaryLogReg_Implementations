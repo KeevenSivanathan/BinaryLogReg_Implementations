{
 "cells": [
  {
   "cell_type": "code",
   "execution_count": 134,
   "metadata": {},
   "outputs": [],
   "source": [
    "import pandas as pd\n",
    "import numpy as np\n",
    "import sklearn as sk\n",
    "import sklearn.datasets\n",
    "from sklearn.model_selection import train_test_split \n",
    "import matplotlib.pyplot as plt"
   ]
  },
  {
   "cell_type": "code",
   "execution_count": 135,
   "metadata": {},
   "outputs": [],
   "source": [
    "dataset = sk.datasets.load_breast_cancer()\n",
    "X = dataset.data\n",
    "y = dataset.target"
   ]
  },
  {
   "cell_type": "code",
   "execution_count": 136,
   "metadata": {},
   "outputs": [],
   "source": [
    "#Split data into train and test \n",
    "X_train, X_test, y_train, y_test = train_test_split(X,y,test_size=0.2)"
   ]
  },
  {
   "cell_type": "code",
   "execution_count": 137,
   "metadata": {},
   "outputs": [],
   "source": [
    "N_train = X_train.shape[0]\n",
    "N_val = X_train.shape[0]\n",
    "d = X_train.shape[1]"
   ]
  },
  {
   "cell_type": "code",
   "execution_count": 138,
   "metadata": {},
   "outputs": [],
   "source": [
    "#Normalize Data\n",
    "X_train = (X_train - np.mean(X_train,axis=0)) / np.std(X_train,axis=0)\n",
    "X_test = (X_test - np.mean(X_train,axis=0)) / np.std(X_train,axis=0)"
   ]
  },
  {
   "cell_type": "code",
   "execution_count": 139,
   "metadata": {},
   "outputs": [],
   "source": [
    "X_train = np.insert(X_train,0,1,axis=1)\n",
    "X_test = np.insert(X_test,0,1,axis=1)"
   ]
  },
  {
   "cell_type": "code",
   "execution_count": 140,
   "metadata": {},
   "outputs": [],
   "source": [
    "def sigmoid(u):\n",
    "    exp_u = np.exp(u)\n",
    "    return exp_u/(1+exp_u)"
   ]
  },
  {
   "cell_type": "code",
   "execution_count": 141,
   "metadata": {},
   "outputs": [],
   "source": [
    "def binary_cross_entropy(p,q):\n",
    "    return -p*np.log(q) - (1-p)*np.log(1-q)"
   ]
  },
  {
   "cell_type": "code",
   "execution_count": 142,
   "metadata": {},
   "outputs": [],
   "source": [
    "def L(beta,X,y):\n",
    "    N = X.shape[0]\n",
    "    s = 0\n",
    "    for i in range(N):\n",
    "        xiHat = X[i]\n",
    "        yi = y[i]\n",
    "        \n",
    "        yi_pred = sigmoid(np.vdot(xiHat,beta))\n",
    "        \n",
    "        s = s + binary_cross_entropy(yi,yi_pred)\n",
    "        \n",
    "    return s / N "
   ]
  },
  {
   "cell_type": "code",
   "execution_count": 143,
   "metadata": {},
   "outputs": [],
   "source": [
    "def grad_L(beta,X,y):\n",
    "    N = X.shape[0]\n",
    "    grad = 0\n",
    "    for i in range(N):\n",
    "        xiHat = X[i]\n",
    "        yi = y[i]\n",
    "        \n",
    "        yi_pred = sigmoid(np.vdot(xiHat,beta))\n",
    "        \n",
    "        grad = grad + (sigmoid(np.vdot(xiHat,beta)) - yi)*xiHat.T\n",
    "        \n",
    "    return grad / N "
   ]
  },
  {
   "cell_type": "code",
   "execution_count": 144,
   "metadata": {},
   "outputs": [],
   "source": [
    "def LogReg_GradientDescent(X,y):\n",
    "    num_iters = 100\n",
    "    alpha = 0.001\n",
    "    beta = np.zeros(d+1)\n",
    "    \n",
    "    L_vals = np.zeros(num_iters)\n",
    "    for t in range(num_iters):\n",
    "        L_vals[t] = L(beta,X,y)\n",
    "        \n",
    "        if t % 20:\n",
    "            print(L_vals[t])\n",
    "            \n",
    "        beta = beta - alpha * grad_L(beta,X,y)\n",
    "    \n",
    "    return beta, L_vals"
   ]
  },
  {
   "cell_type": "code",
   "execution_count": 151,
   "metadata": {},
   "outputs": [],
   "source": [
    "def make_predictions(beta,X):\n",
    "    N = X.shape[0]\n",
    "    y_pred = np.zeros(N)\n",
    "    \n",
    "    for i in range(N):\n",
    "        xiHat = X[i]\n",
    "        yi_pred = sigmoid(np.vdot(xiHat,beta))\n",
    "        y_pred[i] = yi_pred\n",
    "        \n",
    "    return np.round(y_pred)"
   ]
  },
  {
   "cell_type": "code",
   "execution_count": 146,
   "metadata": {},
   "outputs": [
    {
     "name": "stdout",
     "output_type": "stream",
     "text": [
      "0.6911826001661029\n",
      "0.6892304554984362\n",
      "0.687290664772721\n",
      "0.6853631462216476\n",
      "0.6834478181108006\n",
      "0.6815445987543877\n",
      "0.6796534065306932\n",
      "0.6777741598972548\n",
      "0.6759067774057544\n",
      "0.6740511777166172\n",
      "0.6722072796133305\n",
      "0.6703750020164442\n",
      "0.6685542639972891\n",
      "0.6667449847913761\n",
      "0.6649470838114915\n",
      "0.6631604806604867\n",
      "0.6613850951437455\n",
      "0.6596208472813448\n",
      "0.6578676573198936\n",
      "0.6543941332877695\n",
      "0.6526736409451103\n",
      "0.6509638899808844\n",
      "0.6492648019408779\n",
      "0.6475762986617883\n",
      "0.6458983022808518\n",
      "0.6442307352451442\n",
      "0.6425735203205895\n",
      "0.6409265806006305\n",
      "0.6392898395146184\n",
      "0.6376632208358761\n",
      "0.6360466486894741\n",
      "0.6344400475596941\n",
      "0.6328433422972074\n",
      "0.6312564581259477\n",
      "0.6296793206497057\n",
      "0.6281118558584285\n",
      "0.626553990134248\n",
      "0.6250056502572112\n",
      "0.621937257186936\n",
      "0.6204170595912906\n",
      "0.6189060990475834\n",
      "0.6174043044021885\n",
      "0.6159116049282594\n",
      "0.6144279303296497\n",
      "0.6129532107445939\n",
      "0.6114873767491432\n",
      "0.6100303593603738\n",
      "0.6085820900393696\n",
      "0.6071425006939858\n",
      "0.6057115236813831\n",
      "0.6042890918103649\n",
      "0.6028751383434983\n",
      "0.6014695969990357\n",
      "0.6000724019526422\n",
      "0.5986834878389264\n",
      "0.5973027897527919\n",
      "0.595930243250597\n",
      "0.5932093495365118\n",
      "0.5918608757526729\n",
      "0.5905203004100149\n",
      "0.5891875613836539\n",
      "0.5878625970136194\n",
      "0.5865453461048833\n",
      "0.5852357479272468\n",
      "0.5839337422150942\n",
      "0.5826392691670045\n",
      "0.5813522694452413\n",
      "0.5800726841751119\n",
      "0.5788004549442104\n",
      "0.5775355238015405\n",
      "0.5762778332565281\n",
      "0.5750273262779263\n",
      "0.5737839462926149\n",
      "0.5725476371842992\n",
      "0.571318343292119\n",
      "0.5700960094091535\n",
      "0.5676720031033541\n",
      "0.5664702225217785\n",
      "0.5652751856283693\n",
      "0.5640868394606158\n",
      "0.5629051314992833\n",
      "0.5617300096663772\n",
      "0.5605614223230422\n",
      "0.5593993182674044\n",
      "0.5582436467323448\n",
      "0.5570943573832297\n",
      "0.5559514003155779\n",
      "0.5548147260526861\n",
      "0.5536842855431962\n",
      "0.5525600301586314\n",
      "0.5514419116908797\n",
      "0.55032988234964\n",
      "0.5492238947598364\n",
      "0.5481239019589885\n",
      "0.5470298573945594\n"
     ]
    }
   ],
   "source": [
    "beta, L_vals = LogReg_GradientDescent(X_train,y_train)"
   ]
  },
  {
   "cell_type": "code",
   "execution_count": 147,
   "metadata": {},
   "outputs": [
    {
     "data": {
      "text/plain": [
       "[<matplotlib.lines.Line2D at 0x7fb3df32d210>]"
      ]
     },
     "execution_count": 147,
     "metadata": {},
     "output_type": "execute_result"
    },
    {
     "data": {
      "image/png": "[encoded data removed]",
      "text/plain": [
       "<Figure size 432x288 with 1 Axes>"
      ]
     },
     "metadata": {
      "needs_background": "light"
     },
     "output_type": "display_data"
    }
   ],
   "source": [
    "plt.plot(L_vals)"
   ]
  },
  {
   "cell_type": "code",
   "execution_count": 152,
   "metadata": {},
   "outputs": [
    {
     "ename": "NameError",
     "evalue": "name 'softmax' is not defined",
     "output_type": "error",
     "traceback": [
      "\u001b[0;31m---------------------------------------------------------------------------\u001b[0m",
      "\u001b[0;31mNameError\u001b[0m                                 Traceback (most recent call last)",
      "\u001b[0;32m<ipython-input-152-d5ae91f85e5e>\u001b[0m in \u001b[0;36m<module>\u001b[0;34m\u001b[0m\n\u001b[0;32m----> 1\u001b[0;31m \u001b[0my_pred\u001b[0m \u001b[0;34m=\u001b[0m \u001b[0mmake_predictions\u001b[0m\u001b[0;34m(\u001b[0m\u001b[0mbeta\u001b[0m\u001b[0;34m,\u001b[0m\u001b[0mX_test\u001b[0m\u001b[0;34m)\u001b[0m\u001b[0;34m\u001b[0m\u001b[0;34m\u001b[0m\u001b[0m\n\u001b[0m",
      "\u001b[0;32m<ipython-input-151-b3526bbf1899>\u001b[0m in \u001b[0;36mmake_predictions\u001b[0;34m(beta, X)\u001b[0m\n\u001b[1;32m      8\u001b[0m     \u001b[0;32mfor\u001b[0m \u001b[0mi\u001b[0m \u001b[0;32min\u001b[0m \u001b[0mrange\u001b[0m\u001b[0;34m(\u001b[0m\u001b[0mN\u001b[0m\u001b[0;34m)\u001b[0m\u001b[0;34m:\u001b[0m\u001b[0;34m\u001b[0m\u001b[0;34m\u001b[0m\u001b[0m\n\u001b[1;32m      9\u001b[0m         \u001b[0mxiHat\u001b[0m \u001b[0;34m=\u001b[0m \u001b[0mX\u001b[0m\u001b[0;34m[\u001b[0m\u001b[0mi\u001b[0m\u001b[0;34m]\u001b[0m\u001b[0;34m\u001b[0m\u001b[0;34m\u001b[0m\u001b[0m\n\u001b[0;32m---> 10\u001b[0;31m         \u001b[0myi_pred\u001b[0m \u001b[0;34m=\u001b[0m \u001b[0msoftmax\u001b[0m\u001b[0;34m(\u001b[0m\u001b[0mbeta\u001b[0m \u001b[0;34m@\u001b[0m \u001b[0mxiHat\u001b[0m\u001b[0;34m)\u001b[0m\u001b[0;34m\u001b[0m\u001b[0;34m\u001b[0m\u001b[0m\n\u001b[0m\u001b[1;32m     11\u001b[0m \u001b[0;34m\u001b[0m\u001b[0m\n\u001b[1;32m     12\u001b[0m         \u001b[0mk\u001b[0m \u001b[0;34m=\u001b[0m \u001b[0mnp\u001b[0m\u001b[0;34m.\u001b[0m\u001b[0margmax\u001b[0m\u001b[0;34m(\u001b[0m\u001b[0myi_pred\u001b[0m\u001b[0;34m)\u001b[0m\u001b[0;34m\u001b[0m\u001b[0;34m\u001b[0m\u001b[0m\n",
      "\u001b[0;31mNameError\u001b[0m: name 'softmax' is not defined"
     ]
    }
   ],
   "source": [
    "y_pred = make_predictions(beta,X_test)"
   ]
  },
  {
   "cell_type": "code",
   "execution_count": 149,
   "metadata": {},
   "outputs": [
    {
     "data": {
      "text/plain": [
       "array([0., 0., 0., 0., 0., 0., 0., 0., 0., 0., 0., 0., 0., 0., 0., 0., 0.,\n",
       "       0., 0., 0., 0., 0., 0., 0., 0., 0., 0., 0., 0., 0., 0., 0., 0., 0.,\n",
       "       0., 0., 0., 0., 0., 0., 0., 0., 0., 0., 0., 0., 0., 0., 0., 0., 0.,\n",
       "       0., 0., 0., 0., 0., 0., 0., 0., 0., 0., 0., 0., 0., 0., 0., 0., 0.,\n",
       "       0., 0., 0., 0., 0., 0., 0., 0., 0., 0., 0., 0., 0., 0., 0., 0., 0.,\n",
       "       0., 0., 0., 0., 0., 0., 0., 0., 0., 0., 0., 0., 0., 0., 0., 0., 0.,\n",
       "       0., 0., 0., 0., 0., 0., 0., 0., 0., 0., 0., 0.])"
      ]
     },
     "execution_count": 149,
     "metadata": {},
     "output_type": "execute_result"
    }
   ],
   "source": [
    "y_pred"
   ]
  },
  {
   "cell_type": "code",
   "execution_count": 150,
   "metadata": {},
   "outputs": [
    {
     "data": {
      "text/plain": [
       "array([0, 1, 1, 0, 1, 0, 1, 1, 0, 1, 0, 0, 1, 1, 0, 1, 0, 1, 1, 1, 0, 0,\n",
       "       1, 1, 0, 0, 1, 1, 1, 0, 0, 0, 1, 0, 0, 1, 1, 0, 1, 1, 0, 0, 1, 1,\n",
       "       0, 1, 1, 1, 0, 1, 1, 0, 1, 1, 1, 0, 1, 0, 1, 0, 0, 1, 1, 0, 1, 0,\n",
       "       0, 1, 0, 0, 0, 1, 1, 1, 1, 0, 1, 1, 1, 1, 1, 1, 1, 1, 1, 1, 1, 0,\n",
       "       0, 0, 0, 1, 0, 0, 1, 0, 1, 1, 0, 0, 1, 1, 0, 0, 0, 1, 1, 1, 1, 1,\n",
       "       1, 1, 0, 1])"
      ]
     },
     "execution_count": 150,
     "metadata": {},
     "output_type": "execute_result"
    }
   ],
   "source": [
    "y_test"
   ]
  },
  {
   "cell_type": "code",
   "execution_count": null,
   "metadata": {},
   "outputs": [],
   "source": []
  }
 ],
 "metadata": {
  "kernelspec": {
   "display_name": "Python 3",
   "language": "python",
   "name": "python3"
  },
  "language_info": {
   "codemirror_mode": {
    "name": "ipython",
    "version": 3
   },
   "file_extension": ".py",
   "mimetype": "text/x-python",
   "name": "python",
   "nbconvert_exporter": "python",
   "pygments_lexer": "ipython3",
   "version": "3.7.6"
  }
 },
 "nbformat": 4,
 "nbformat_minor": 4
}
